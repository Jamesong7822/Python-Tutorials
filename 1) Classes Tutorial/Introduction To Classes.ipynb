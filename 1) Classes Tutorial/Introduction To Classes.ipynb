{
 "cells": [
  {
   "cell_type": "markdown",
   "id": "f51bba21",
   "metadata": {},
   "source": [
    "# Introduction To Classes\n",
    "\n",
    "In this notebook, you will learn about how to use classes in `Python`. `Python` is well known for its `object-oriented-programming` (OOP) capabilities and this tutorial will aim to cover the core but basic fundamentals to use classes"
   ]
  },
  {
   "cell_type": "markdown",
   "id": "6d950aab",
   "metadata": {},
   "source": [
    "# Table Of Contents\n",
    "\n",
    "- [Introduction To Classes](#Introduction-To-Classes)\n",
    "- [Table Of Contents](#Table-Of-Contents)\n",
    "- [1. What Is A Python Class?](#1.-What-Is-A-Python-Class?)\n",
    "  * [1.1 Class Properties](#1.1-Class-Properties)\n",
    "  * [1.2 __init__()](#1.2-__init__())\n",
    "  * [1.3 Class Methods](#1.3-Class-Methods)\n",
    "- [2. Inheritance](#2.-Inheritance)\n",
    "  * [2.1 Defining A Child Class](#2.1-Defining-A-Child-Class)"
   ]
  },
  {
   "cell_type": "markdown",
   "id": "dcfb90a1",
   "metadata": {},
   "source": [
    "# 1. What Is A Python Class?\n",
    "\n",
    "`Class` in `Python` is a **constructor** keyword that gives a blueprint for creating an `object`. We create a new object blueprint or `Class` in python by using the `Class` keyword. We create an `object` by calling the `Class` using `object = myClass()`"
   ]
  },
  {
   "cell_type": "markdown",
   "id": "b68f11a1",
   "metadata": {},
   "source": [
    "## 1.1 Class Properties\n",
    "We can define attributes or properties that are accessible for all objects created by this `class`. Think of these properties as static variables. They are accessible from the class itself, without the need for creating an `object`."
   ]
  },
  {
   "cell_type": "code",
   "execution_count": 1,
   "id": "502a2087",
   "metadata": {},
   "outputs": [],
   "source": [
    "class myFirstClass:\n",
    "    staticVar = 10\n",
    "    staticList = [\"1\", \"2\", \"3\"]"
   ]
  },
  {
   "cell_type": "code",
   "execution_count": 2,
   "id": "8a8ee4be",
   "metadata": {},
   "outputs": [
    {
     "data": {
      "text/plain": [
       "10"
      ]
     },
     "execution_count": 2,
     "metadata": {},
     "output_type": "execute_result"
    }
   ],
   "source": [
    "myFirstClass.staticVar"
   ]
  },
  {
   "cell_type": "code",
   "execution_count": 3,
   "id": "c5a61917",
   "metadata": {},
   "outputs": [
    {
     "data": {
      "text/plain": [
       "10"
      ]
     },
     "execution_count": 3,
     "metadata": {},
     "output_type": "execute_result"
    }
   ],
   "source": [
    "object1 = myFirstClass()\n",
    "object1.staticVar"
   ]
  },
  {
   "cell_type": "markdown",
   "id": "735548ce",
   "metadata": {},
   "source": [
    "We can create a new object: `object2` from the same `Class` and change its `staticVar` property without affecting `object1`"
   ]
  },
  {
   "cell_type": "code",
   "execution_count": 4,
   "id": "e1f94000",
   "metadata": {},
   "outputs": [
    {
     "name": "stdout",
     "output_type": "stream",
     "text": [
      "Object 2 static var: 20\n",
      "Object 1 static var: 10\n"
     ]
    }
   ],
   "source": [
    "object2 = myFirstClass()\n",
    "object2.staticVar = 20\n",
    "print (\"Object 2 static var: {}\".format(object2.staticVar))\n",
    "print (\"Object 1 static var: {}\".format(object1.staticVar))"
   ]
  },
  {
   "cell_type": "markdown",
   "id": "611f040c",
   "metadata": {},
   "source": [
    "**NOTE: We can override the `staticVar` for all objects of a class that has not have that same variable changed before!**"
   ]
  },
  {
   "cell_type": "code",
   "execution_count": 5,
   "id": "ec3f1511",
   "metadata": {},
   "outputs": [
    {
     "name": "stdout",
     "output_type": "stream",
     "text": [
      "Object 1 static var: 100\n",
      "Object 2 static var: 20\n"
     ]
    }
   ],
   "source": [
    "myFirstClass.staticVar = 100\n",
    "print(\"Object 1 static var: {}\".format(object1.staticVar))\n",
    "print(\"Object 2 static var: {}\".format(object2.staticVar))"
   ]
  },
  {
   "cell_type": "markdown",
   "id": "a05b7c6e",
   "metadata": {},
   "source": [
    "**The examples above are classes and objects in their simplest form, and are not really useful in real life applications.**"
   ]
  },
  {
   "cell_type": "markdown",
   "id": "1c36fa1e",
   "metadata": {},
   "source": [
    "## 1.2 __init__()\n",
    "\n",
    "All classes have a function called `__init__()`, which is always executed when the class is being initiated. Generally, we use the `__init__()` function to assign values to object properties, or other operations that are necessary to do when the object is being created:"
   ]
  },
  {
   "cell_type": "markdown",
   "id": "a10b0430",
   "metadata": {},
   "source": [
    "Let's make a new `Class` called `Person`, which takes inputs such as `name` and `age`!\n",
    "**NOTE: For each of the class inputs, we use `self.<propertyname>` to enable that property to be accessible anywhere within the class**"
   ]
  },
  {
   "cell_type": "code",
   "execution_count": 6,
   "id": "cd1cc140",
   "metadata": {},
   "outputs": [],
   "source": [
    "class Person:\n",
    "    \n",
    "    def __init__(self, name, age):\n",
    "        self.name = name     # this 'name' property is accessible anywhere in the Person Class\n",
    "        self.age = age       # this 'age' property is now accessible anywhere in the Person Class"
   ]
  },
  {
   "cell_type": "markdown",
   "id": "fd24d849",
   "metadata": {},
   "source": [
    "## 1.3 Class Methods\n",
    "Although the way of defining a class method is just like a function, we generally call a function within a class as `method` which belongs to the object. Let's define a `sayGreetings()` method in our `Person` class!\n",
    "\n",
    "**NOTE: Class Methods are declared with the `self` argument. This is the major difference between a `method` and a `function`!**"
   ]
  },
  {
   "cell_type": "code",
   "execution_count": 9,
   "id": "3dd90f73",
   "metadata": {},
   "outputs": [],
   "source": [
    "class Person:\n",
    "    \n",
    "    def __init__(self, name, age):\n",
    "        self.name = name     # this 'name' property is accessible anywhere in the Person Class\n",
    "        self.age = age       # this 'age' property is now accessible anywhere in the Person Class\n",
    "        \n",
    "    def sayGreetings(self):\n",
    "        # take note that we can access these properties\n",
    "        print (\"Hello my name is {} and I am {} years old!\".format(self.name, self.age))"
   ]
  },
  {
   "cell_type": "markdown",
   "id": "a0c40086",
   "metadata": {},
   "source": [
    "Let's create a few person `objects` and have them say greetings!"
   ]
  },
  {
   "cell_type": "code",
   "execution_count": 10,
   "id": "8746856b",
   "metadata": {},
   "outputs": [
    {
     "name": "stdout",
     "output_type": "stream",
     "text": [
      "Hello my name is Jerry and I am 19 years old!\n",
      "Hello my name is Clark and I am 28 years old!\n"
     ]
    }
   ],
   "source": [
    "person1 = Person(\"Jerry\", 19)\n",
    "person2 = Person(\"Clark\", 28)\n",
    "person1.sayGreetings()\n",
    "person2.sayGreetings()"
   ]
  },
  {
   "cell_type": "markdown",
   "id": "befdb820",
   "metadata": {},
   "source": [
    "# 2. Inheritance\n",
    "Inheritance allows us to define a `Class` that inherits all the methods and properties from another `Parent` class. We use `Parent` so signify a `Class` that is higher in hierarchy and `Child` to signify a `Class` that is lower in hierarchy."
   ]
  },
  {
   "cell_type": "markdown",
   "id": "f4a40089",
   "metadata": {},
   "source": [
    "## 2.1 Defining A Child Class\n",
    "Similarly, we use `Class` keyword to create a `Child Class`, but this time we place the `Parent Class` in `()` after the `Child Class`.\n",
    "\n",
    "Let's define a new `Child Class` `Student` that inherits from the `Parent Class` `Person`.\n",
    "\n",
    "**NOTE: The `__init__()` definition in the `Child Class` will override the `__init__()` method in the `Parent Class`, so in order to run the `__init__()` from the `Parent Class`, we make use of the `super()` method to call the `Parent Class`. You can also use `super()` to override the same method from the `Parent Class` as shown below!**"
   ]
  },
  {
   "cell_type": "code",
   "execution_count": 15,
   "id": "f95352d8",
   "metadata": {},
   "outputs": [],
   "source": [
    "class Student(Person):\n",
    "    \n",
    "    def __init__(self, name, age, school):\n",
    "        super().__init__(name, age) # calls the init method of the parent class with the required arguments name & age\n",
    "        self.school = school\n",
    "        \n",
    "    def sayGreetings(self):\n",
    "        super().sayGreetings()\n",
    "        print (\"I studied in {}!\".format(self.school))"
   ]
  },
  {
   "cell_type": "code",
   "execution_count": 16,
   "id": "46f0e78f",
   "metadata": {},
   "outputs": [
    {
     "name": "stdout",
     "output_type": "stream",
     "text": [
      "Hello my name is Sam and I am 25 years old!\n",
      "I studied in NUS!\n"
     ]
    }
   ],
   "source": [
    "student1 = Student(\"Sam\", 25, \"NUS\")\n",
    "student1.sayGreetings()"
   ]
  },
  {
   "cell_type": "markdown",
   "id": "d2d65773",
   "metadata": {},
   "source": [
    "Here, we see that the `name` and `age` properties get properly updated as we called `super()__init__(name, age)` in the `__init__()` method of the `Child Class: Student`. In addition, our overriden method `sayGreetings()` still prints out the `Parent Class's` greetings along with the unique statement from the `Child Class: Student`."
   ]
  }
 ],
 "metadata": {
  "kernelspec": {
   "display_name": "Python 3 (ipykernel)",
   "language": "python",
   "name": "python3"
  },
  "language_info": {
   "codemirror_mode": {
    "name": "ipython",
    "version": 3
   },
   "file_extension": ".py",
   "mimetype": "text/x-python",
   "name": "python",
   "nbconvert_exporter": "python",
   "pygments_lexer": "ipython3",
   "version": "3.9.0"
  }
 },
 "nbformat": 4,
 "nbformat_minor": 5
}
