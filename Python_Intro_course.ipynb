{
 "cells": [
  {
   "cell_type": "code",
   "execution_count": 31,
   "metadata": {},
   "outputs": [
    {
     "name": "stdout",
     "output_type": "stream",
     "text": [
      "James\n",
      "15\n",
      "170\n",
      "60\n"
     ]
    }
   ],
   "source": [
    "class Friend(): # You can put an inheritable class in the parantheses as well!\n",
    "    # This block can be filled with \"default\" states for variables\n",
    "    name = \"Default Name\"\n",
    "    age = \"Default Age\"\n",
    "    height = \"Default Height\"\n",
    "    weight = \"Default Weight\"\n",
    "    \n",
    "    def __init__(self, name=name, age=age, height=height, weight=weight): \n",
    "        # Firstly, you let python know what are the various vars to expect\n",
    "        # By attaching a self, you are allowing these variables to be accessed throughout the \t\t\t object\n",
    "        # The object now has these attributable properties which can be called out! \n",
    "        self.name = name\n",
    "        self.age = age\n",
    "        self.height = height\n",
    "        self.weight = weight\n",
    "        \n",
    "# Instantiate a friend object, and assign it to the variable friend - which no inputs\n",
    "friend = Friend()\n",
    "\n",
    "# Instantiate a friend object, and assign it to the variable friend1\n",
    "friend1 = Friend(\"James\", 15, 170, 60)\n",
    "\n",
    "# You can access the various properties of the object you have just instantiated here!\n",
    "# Name\n",
    "print(friend1.name)\n",
    "# Age\n",
    "print(friend1.age)\n",
    "# Height\n",
    "print(friend1.height)\n",
    "# Weight\n",
    "print(friend1.weight)"
   ]
  },
  {
   "cell_type": "code",
   "execution_count": 32,
   "metadata": {},
   "outputs": [
    {
     "name": "stdout",
     "output_type": "stream",
     "text": [
      "Default Name\n"
     ]
    }
   ],
   "source": [
    "friend = Friend()\n",
    "print(friend.name)\n"
   ]
  },
  {
   "cell_type": "code",
   "execution_count": 1,
   "metadata": {},
   "outputs": [
    {
     "name": "stdout",
     "output_type": "stream",
     "text": [
      "Hello world!\n"
     ]
    }
   ],
   "source": [
    "print(\"Hello world!\")"
   ]
  },
  {
   "cell_type": "code",
   "execution_count": 2,
   "metadata": {},
   "outputs": [
    {
     "name": "stdout",
     "output_type": "stream",
     "text": [
      "0\n",
      "1\n",
      "2\n",
      "3\n",
      "4\n",
      "5\n",
      "6\n",
      "7\n",
      "8\n",
      "9\n",
      "done\n"
     ]
    }
   ],
   "source": [
    "for i in range(10):\n",
    "    print(i)\n",
    "print(\"done\")"
   ]
  },
  {
   "cell_type": "code",
   "execution_count": 4,
   "metadata": {},
   "outputs": [
    {
     "name": "stdout",
     "output_type": "stream",
     "text": [
      "A0\n",
      "A1\n",
      "A2\n",
      "A3\n",
      "B0\n",
      "B1\n",
      "B2\n",
      "B3\n"
     ]
    }
   ],
   "source": [
    "for alphabet in [\"A\",\"B\"]:\n",
    "\tfor num in range(4):\n",
    "\t\tprint(alphabet+str(num))"
   ]
  },
  {
   "cell_type": "code",
   "execution_count": 7,
   "metadata": {},
   "outputs": [
    {
     "name": "stdout",
     "output_type": "stream",
     "text": [
      "True\n",
      "True\n",
      "True\n"
     ]
    }
   ],
   "source": [
    "run = True\n",
    "count = 1\n",
    "while run:\n",
    "    print(\"True\")\n",
    "    count += 2\n",
    "    if count > 5:\n",
    "        run = False"
   ]
  },
  {
   "cell_type": "code",
   "execution_count": 8,
   "metadata": {},
   "outputs": [
    {
     "ename": "SyntaxError",
     "evalue": "invalid syntax (<ipython-input-8-306de80428a3>, line 1)",
     "output_type": "error",
     "traceback": [
      "\u001b[1;36m  File \u001b[1;32m\"<ipython-input-8-306de80428a3>\"\u001b[1;36m, line \u001b[1;32m1\u001b[0m\n\u001b[1;33m    if __\u001b[0m\n\u001b[1;37m         ^\u001b[0m\n\u001b[1;31mSyntaxError\u001b[0m\u001b[1;31m:\u001b[0m invalid syntax\n"
     ]
    }
   ],
   "source": [
    "if __\n",
    "elif\n",
    "else"
   ]
  },
  {
   "cell_type": "code",
   "execution_count": 26,
   "metadata": {},
   "outputs": [
    {
     "name": "stdout",
     "output_type": "stream",
     "text": [
      "[9, 0, 12, 4, 18]\n",
      "['k', 'b', 'n', 'f', 't']\n",
      "kbnft\n"
     ]
    }
   ],
   "source": [
    "alphabets = [\"a\", \"b\", \"c\", \"d\", \"e\", \"f\", \"g\", \"h\", \"i\", \"j\", \"k\", \"l\", \"m\", \"n\", \"o\", \"p\", \"q\", \"r\", \"s\", \"t\", \"u\", \"v\", \"w\", \"x\", \"y\", \"z\"]\n",
    "\n",
    "def change(input):\n",
    "    list1 = []\n",
    "    for alphabet in input:\n",
    "        list1.append(alphabets.index(alphabet))\n",
    "        \n",
    "    print(list1)\n",
    "    ans_list = []\n",
    "    for num in list1:\n",
    "        ans_list.append(alphabets[num+1])\n",
    "        \n",
    "    print(ans_list)\n",
    "    print(\"\".join(ans_list))\n",
    "\n",
    "    \n",
    "change(\"james\")"
   ]
  },
  {
   "cell_type": "code",
   "execution_count": 9,
   "metadata": {},
   "outputs": [
    {
     "name": "stdout",
     "output_type": "stream",
     "text": [
      "INSERT HERE >>>James\n"
     ]
    }
   ],
   "source": [
    "a = input(\"INSERT HERE >>>\")"
   ]
  },
  {
   "cell_type": "code",
   "execution_count": 10,
   "metadata": {},
   "outputs": [
    {
     "name": "stdout",
     "output_type": "stream",
     "text": [
      "James\n"
     ]
    }
   ],
   "source": [
    "print(a)\n"
   ]
  },
  {
   "cell_type": "code",
   "execution_count": 12,
   "metadata": {},
   "outputs": [
    {
     "name": "stdout",
     "output_type": "stream",
     "text": [
      "Tell me your name> james\n",
      "Hi james.\n"
     ]
    }
   ],
   "source": [
    "name = input(\"Tell me your name> \")\n",
    "def greet(name):\n",
    "    print(\"Hi {}.\".format(name))\n",
    "    \n",
    "greet(name)"
   ]
  },
  {
   "cell_type": "code",
   "execution_count": 13,
   "metadata": {},
   "outputs": [],
   "source": [
    "def add2nums(num1, num2):\n",
    "    return(num1+num2)"
   ]
  },
  {
   "cell_type": "code",
   "execution_count": 16,
   "metadata": {},
   "outputs": [
    {
     "name": "stdout",
     "output_type": "stream",
     "text": [
      "Num1: a\n"
     ]
    },
    {
     "ename": "ValueError",
     "evalue": "invalid literal for int() with base 10: 'a'",
     "output_type": "error",
     "traceback": [
      "\u001b[1;31m---------------------------------------------------------------------------\u001b[0m",
      "\u001b[1;31mValueError\u001b[0m                                Traceback (most recent call last)",
      "\u001b[1;32m<ipython-input-16-d85df5323f1b>\u001b[0m in \u001b[0;36m<module>\u001b[1;34m()\u001b[0m\n\u001b[1;32m----> 1\u001b[1;33m \u001b[0mnum1\u001b[0m \u001b[1;33m=\u001b[0m \u001b[0mint\u001b[0m\u001b[1;33m(\u001b[0m\u001b[0minput\u001b[0m\u001b[1;33m(\u001b[0m\u001b[1;34m\"Num1: \"\u001b[0m\u001b[1;33m)\u001b[0m\u001b[1;33m)\u001b[0m\u001b[1;33m\u001b[0m\u001b[0m\n\u001b[0m\u001b[0;32m      2\u001b[0m \u001b[0mnum2\u001b[0m \u001b[1;33m=\u001b[0m \u001b[0mint\u001b[0m\u001b[1;33m(\u001b[0m\u001b[0minput\u001b[0m\u001b[1;33m(\u001b[0m\u001b[1;34m\"Num2: \"\u001b[0m\u001b[1;33m)\u001b[0m\u001b[1;33m)\u001b[0m\u001b[1;33m\u001b[0m\u001b[0m\n\u001b[0;32m      3\u001b[0m \u001b[1;33m\u001b[0m\u001b[0m\n\u001b[0;32m      4\u001b[0m \u001b[0madd2nums\u001b[0m\u001b[1;33m(\u001b[0m\u001b[0mnum1\u001b[0m\u001b[1;33m,\u001b[0m \u001b[0mnum2\u001b[0m\u001b[1;33m)\u001b[0m\u001b[1;33m\u001b[0m\u001b[0m\n",
      "\u001b[1;31mValueError\u001b[0m: invalid literal for int() with base 10: 'a'"
     ]
    }
   ],
   "source": [
    "num1 = int(input(\"Num1: \"))\n",
    "num2 = int(input(\"Num2: \"))\n",
    "\n",
    "add2nums(num1, num2)"
   ]
  },
  {
   "cell_type": "code",
   "execution_count": 23,
   "metadata": {},
   "outputs": [
    {
     "name": "stdout",
     "output_type": "stream",
     "text": [
      "['i', 'hi', 'any', 'james']\n"
     ]
    }
   ],
   "source": [
    "a = [\"hi\", \"i\", \"james\", \"any\"]\n",
    "a.sort(key=len)\n",
    "print(a)"
   ]
  },
  {
   "cell_type": "code",
   "execution_count": 27,
   "metadata": {},
   "outputs": [
    {
     "name": "stdout",
     "output_type": "stream",
     "text": [
      "Tell me your name >>>cheng wee\n",
      "Hello cheng wee.\n"
     ]
    }
   ],
   "source": [
    "def greet(name):\n",
    "    print(\"Hello {}.\".format(name))\n",
    "    \n",
    "a = input(\"Tell me your name >>>\")\n",
    "greet(a)"
   ]
  },
  {
   "cell_type": "code",
   "execution_count": 63,
   "metadata": {},
   "outputs": [
    {
     "name": "stdout",
     "output_type": "stream",
     "text": [
      "78705\n"
     ]
    }
   ],
   "source": [
    "def isprime(num):\n",
    "    if num == 2:\n",
    "        return True\n",
    "    \n",
    "    prime = True\n",
    "    for i in range(2, int(num**0.5)):\n",
    "        if num % i == 0:\n",
    "            prime = False\n",
    "    return prime\n",
    " \n",
    "            \n",
    "# print(isprime(6))\n",
    "\n",
    "prime_list = []\n",
    "for i in range(1000000):\n",
    "    if isprime(i):\n",
    "        prime_list.append(i)\n",
    "print(len(prime_list))"
   ]
  },
  {
   "cell_type": "code",
   "execution_count": 64,
   "metadata": {},
   "outputs": [
    {
     "data": {
      "text/plain": [
       "'jms'"
      ]
     },
     "execution_count": 64,
     "metadata": {},
     "output_type": "execute_result"
    }
   ],
   "source": [
    "mystring = \"james\"\n",
    "mystring[::2]"
   ]
  },
  {
   "cell_type": "code",
   "execution_count": null,
   "metadata": {},
   "outputs": [],
   "source": []
  }
 ],
 "metadata": {
  "kernelspec": {
   "display_name": "Python 3",
   "language": "python",
   "name": "python3"
  },
  "language_info": {
   "codemirror_mode": {
    "name": "ipython",
    "version": 3
   },
   "file_extension": ".py",
   "mimetype": "text/x-python",
   "name": "python",
   "nbconvert_exporter": "python",
   "pygments_lexer": "ipython3",
   "version": "3.6.4"
  }
 },
 "nbformat": 4,
 "nbformat_minor": 2
}
